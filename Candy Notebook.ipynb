{
 "cells": [
  {
   "cell_type": "code",
   "execution_count": 106,
   "metadata": {},
   "outputs": [],
   "source": [
    "import pandas as pd #For DataFrames\n",
    "import numpy as np #Mathmatical Operations\n",
    "import seaborn as sns #Plotting\n",
    "import matplotlib.pyplot as plt #Plotting"
   ]
  },
  {
   "cell_type": "markdown",
   "metadata": {},
   "source": [
    "# Load the data"
   ]
  },
  {
   "cell_type": "code",
   "execution_count": 107,
   "metadata": {},
   "outputs": [],
   "source": [
    "candy = pd.read_excel(\"candyhierarchy2017.xlsx\")"
   ]
  },
  {
   "cell_type": "markdown",
   "metadata": {},
   "source": [
    "# Show the first five rows"
   ]
  },
  {
   "cell_type": "code",
   "execution_count": 108,
   "metadata": {},
   "outputs": [
    {
     "data": {
      "text/html": [
       "<div>\n",
       "<style scoped>\n",
       "    .dataframe tbody tr th:only-of-type {\n",
       "        vertical-align: middle;\n",
       "    }\n",
       "\n",
       "    .dataframe tbody tr th {\n",
       "        vertical-align: top;\n",
       "    }\n",
       "\n",
       "    .dataframe thead th {\n",
       "        text-align: right;\n",
       "    }\n",
       "</style>\n",
       "<table border=\"1\" class=\"dataframe\">\n",
       "  <thead>\n",
       "    <tr style=\"text-align: right;\">\n",
       "      <th></th>\n",
       "      <th>Internal ID</th>\n",
       "      <th>Q1: GOING OUT?</th>\n",
       "      <th>Q2: GENDER</th>\n",
       "      <th>Q3: AGE</th>\n",
       "      <th>Q4: COUNTRY</th>\n",
       "      <th>Q5: STATE, PROVINCE, COUNTY, ETC</th>\n",
       "      <th>Q6 | 100 Grand Bar</th>\n",
       "      <th>Q6 | Anonymous brown globs that come in black and orange wrappers\\t(a.k.a. Mary Janes)</th>\n",
       "      <th>Q6 | Any full-sized candy bar</th>\n",
       "      <th>Q6 | Black Jacks</th>\n",
       "      <th>...</th>\n",
       "      <th>Q8: DESPAIR OTHER</th>\n",
       "      <th>Q9: OTHER COMMENTS</th>\n",
       "      <th>Q10: DRESS</th>\n",
       "      <th>Unnamed: 113</th>\n",
       "      <th>Q11: DAY</th>\n",
       "      <th>Q12: MEDIA [Daily Dish]</th>\n",
       "      <th>Q12: MEDIA [Science]</th>\n",
       "      <th>Q12: MEDIA [ESPN]</th>\n",
       "      <th>Q12: MEDIA [Yahoo]</th>\n",
       "      <th>Click Coordinates (x, y)</th>\n",
       "    </tr>\n",
       "  </thead>\n",
       "  <tbody>\n",
       "    <tr>\n",
       "      <th>0</th>\n",
       "      <td>90258773</td>\n",
       "      <td>NaN</td>\n",
       "      <td>NaN</td>\n",
       "      <td>NaN</td>\n",
       "      <td>NaN</td>\n",
       "      <td>NaN</td>\n",
       "      <td>NaN</td>\n",
       "      <td>NaN</td>\n",
       "      <td>NaN</td>\n",
       "      <td>NaN</td>\n",
       "      <td>...</td>\n",
       "      <td>NaN</td>\n",
       "      <td>NaN</td>\n",
       "      <td>NaN</td>\n",
       "      <td>NaN</td>\n",
       "      <td>NaN</td>\n",
       "      <td>NaN</td>\n",
       "      <td>NaN</td>\n",
       "      <td>NaN</td>\n",
       "      <td>NaN</td>\n",
       "      <td>NaN</td>\n",
       "    </tr>\n",
       "    <tr>\n",
       "      <th>1</th>\n",
       "      <td>90272821</td>\n",
       "      <td>No</td>\n",
       "      <td>Male</td>\n",
       "      <td>44</td>\n",
       "      <td>USA</td>\n",
       "      <td>NM</td>\n",
       "      <td>MEH</td>\n",
       "      <td>DESPAIR</td>\n",
       "      <td>JOY</td>\n",
       "      <td>MEH</td>\n",
       "      <td>...</td>\n",
       "      <td>NaN</td>\n",
       "      <td>Bottom line is Twix is really the only candy w...</td>\n",
       "      <td>White and gold</td>\n",
       "      <td>NaN</td>\n",
       "      <td>Sunday</td>\n",
       "      <td>NaN</td>\n",
       "      <td>1.0</td>\n",
       "      <td>NaN</td>\n",
       "      <td>NaN</td>\n",
       "      <td>(84, 25)</td>\n",
       "    </tr>\n",
       "    <tr>\n",
       "      <th>2</th>\n",
       "      <td>90272829</td>\n",
       "      <td>NaN</td>\n",
       "      <td>Male</td>\n",
       "      <td>49</td>\n",
       "      <td>USA</td>\n",
       "      <td>Virginia</td>\n",
       "      <td>NaN</td>\n",
       "      <td>NaN</td>\n",
       "      <td>NaN</td>\n",
       "      <td>NaN</td>\n",
       "      <td>...</td>\n",
       "      <td>NaN</td>\n",
       "      <td>NaN</td>\n",
       "      <td>NaN</td>\n",
       "      <td>NaN</td>\n",
       "      <td>NaN</td>\n",
       "      <td>NaN</td>\n",
       "      <td>NaN</td>\n",
       "      <td>NaN</td>\n",
       "      <td>NaN</td>\n",
       "      <td>NaN</td>\n",
       "    </tr>\n",
       "    <tr>\n",
       "      <th>3</th>\n",
       "      <td>90272840</td>\n",
       "      <td>No</td>\n",
       "      <td>Male</td>\n",
       "      <td>40</td>\n",
       "      <td>us</td>\n",
       "      <td>or</td>\n",
       "      <td>MEH</td>\n",
       "      <td>DESPAIR</td>\n",
       "      <td>JOY</td>\n",
       "      <td>MEH</td>\n",
       "      <td>...</td>\n",
       "      <td>NaN</td>\n",
       "      <td>Raisins can go to hell</td>\n",
       "      <td>White and gold</td>\n",
       "      <td>NaN</td>\n",
       "      <td>Sunday</td>\n",
       "      <td>NaN</td>\n",
       "      <td>1.0</td>\n",
       "      <td>NaN</td>\n",
       "      <td>NaN</td>\n",
       "      <td>(75, 23)</td>\n",
       "    </tr>\n",
       "    <tr>\n",
       "      <th>4</th>\n",
       "      <td>90272841</td>\n",
       "      <td>No</td>\n",
       "      <td>Male</td>\n",
       "      <td>23</td>\n",
       "      <td>usa</td>\n",
       "      <td>exton pa</td>\n",
       "      <td>JOY</td>\n",
       "      <td>DESPAIR</td>\n",
       "      <td>JOY</td>\n",
       "      <td>DESPAIR</td>\n",
       "      <td>...</td>\n",
       "      <td>NaN</td>\n",
       "      <td>NaN</td>\n",
       "      <td>White and gold</td>\n",
       "      <td>NaN</td>\n",
       "      <td>Friday</td>\n",
       "      <td>NaN</td>\n",
       "      <td>1.0</td>\n",
       "      <td>NaN</td>\n",
       "      <td>NaN</td>\n",
       "      <td>(70, 10)</td>\n",
       "    </tr>\n",
       "  </tbody>\n",
       "</table>\n",
       "<p>5 rows × 120 columns</p>\n",
       "</div>"
      ],
      "text/plain": [
       "   Internal ID Q1: GOING OUT? Q2: GENDER Q3: AGE Q4: COUNTRY  \\\n",
       "0     90258773            NaN        NaN     NaN         NaN   \n",
       "1     90272821             No       Male      44        USA    \n",
       "2     90272829            NaN       Male      49         USA   \n",
       "3     90272840             No       Male      40          us   \n",
       "4     90272841             No       Male      23         usa   \n",
       "\n",
       "  Q5: STATE, PROVINCE, COUNTY, ETC Q6 | 100 Grand Bar  \\\n",
       "0                              NaN                NaN   \n",
       "1                               NM                MEH   \n",
       "2                         Virginia                NaN   \n",
       "3                               or                MEH   \n",
       "4                         exton pa                JOY   \n",
       "\n",
       "  Q6 | Anonymous brown globs that come in black and orange wrappers\\t(a.k.a. Mary Janes)  \\\n",
       "0                                                NaN                                       \n",
       "1                                            DESPAIR                                       \n",
       "2                                                NaN                                       \n",
       "3                                            DESPAIR                                       \n",
       "4                                            DESPAIR                                       \n",
       "\n",
       "  Q6 | Any full-sized candy bar Q6 | Black Jacks  ... Q8: DESPAIR OTHER  \\\n",
       "0                           NaN              NaN  ...               NaN   \n",
       "1                           JOY              MEH  ...               NaN   \n",
       "2                           NaN              NaN  ...               NaN   \n",
       "3                           JOY              MEH  ...               NaN   \n",
       "4                           JOY          DESPAIR  ...               NaN   \n",
       "\n",
       "                                  Q9: OTHER COMMENTS      Q10: DRESS  \\\n",
       "0                                                NaN             NaN   \n",
       "1  Bottom line is Twix is really the only candy w...  White and gold   \n",
       "2                                                NaN             NaN   \n",
       "3                             Raisins can go to hell  White and gold   \n",
       "4                                                NaN  White and gold   \n",
       "\n",
       "  Unnamed: 113 Q11: DAY Q12: MEDIA [Daily Dish] Q12: MEDIA [Science]  \\\n",
       "0          NaN      NaN                     NaN                  NaN   \n",
       "1          NaN   Sunday                     NaN                  1.0   \n",
       "2          NaN      NaN                     NaN                  NaN   \n",
       "3          NaN   Sunday                     NaN                  1.0   \n",
       "4          NaN   Friday                     NaN                  1.0   \n",
       "\n",
       "  Q12: MEDIA [ESPN] Q12: MEDIA [Yahoo] Click Coordinates (x, y)  \n",
       "0               NaN                NaN                      NaN  \n",
       "1               NaN                NaN                 (84, 25)  \n",
       "2               NaN                NaN                      NaN  \n",
       "3               NaN                NaN                 (75, 23)  \n",
       "4               NaN                NaN                 (70, 10)  \n",
       "\n",
       "[5 rows x 120 columns]"
      ]
     },
     "execution_count": 108,
     "metadata": {},
     "output_type": "execute_result"
    }
   ],
   "source": [
    "candy.head()"
   ]
  },
  {
   "cell_type": "markdown",
   "metadata": {},
   "source": [
    "\n",
    "# Shap of data"
   ]
  },
  {
   "cell_type": "code",
   "execution_count": 109,
   "metadata": {},
   "outputs": [
    {
     "data": {
      "text/plain": [
       "(2460, 120)"
      ]
     },
     "execution_count": 109,
     "metadata": {},
     "output_type": "execute_result"
    }
   ],
   "source": [
    "candy.shape"
   ]
  },
  {
   "cell_type": "markdown",
   "metadata": {},
   "source": [
    "# Columns of data"
   ]
  },
  {
   "cell_type": "code",
   "execution_count": 110,
   "metadata": {},
   "outputs": [
    {
     "data": {
      "text/plain": [
       "Index(['Internal ID', 'Q1: GOING OUT?', 'Q2: GENDER', 'Q3: AGE', 'Q4: COUNTRY',\n",
       "       'Q5: STATE, PROVINCE, COUNTY, ETC', 'Q6 | 100 Grand Bar',\n",
       "       'Q6 | Anonymous brown globs that come in black and orange wrappers\\t(a.k.a. Mary Janes)',\n",
       "       'Q6 | Any full-sized candy bar', 'Q6 | Black Jacks',\n",
       "       ...\n",
       "       'Q8: DESPAIR OTHER', 'Q9: OTHER COMMENTS', 'Q10: DRESS', 'Unnamed: 113',\n",
       "       'Q11: DAY', 'Q12: MEDIA [Daily Dish]', 'Q12: MEDIA [Science]',\n",
       "       'Q12: MEDIA [ESPN]', 'Q12: MEDIA [Yahoo]', 'Click Coordinates (x, y)'],\n",
       "      dtype='object', length=120)"
      ]
     },
     "execution_count": 110,
     "metadata": {},
     "output_type": "execute_result"
    }
   ],
   "source": [
    "candy.columns"
   ]
  },
  {
   "cell_type": "markdown",
   "metadata": {},
   "source": [
    "# The first problem we can see , the columns's name need to clean "
   ]
  },
  {
   "cell_type": "code",
   "execution_count": 111,
   "metadata": {},
   "outputs": [],
   "source": [
    "candy.rename(columns=lambda x: x[4:], inplace=True)"
   ]
  },
  {
   "cell_type": "code",
   "execution_count": 112,
   "metadata": {},
   "outputs": [
    {
     "data": {
      "text/html": [
       "<div>\n",
       "<style scoped>\n",
       "    .dataframe tbody tr th:only-of-type {\n",
       "        vertical-align: middle;\n",
       "    }\n",
       "\n",
       "    .dataframe tbody tr th {\n",
       "        vertical-align: top;\n",
       "    }\n",
       "\n",
       "    .dataframe thead th {\n",
       "        text-align: right;\n",
       "    }\n",
       "</style>\n",
       "<table border=\"1\" class=\"dataframe\">\n",
       "  <thead>\n",
       "    <tr style=\"text-align: right;\">\n",
       "      <th></th>\n",
       "      <th>rnal ID</th>\n",
       "      <th>GOING OUT?</th>\n",
       "      <th>GENDER</th>\n",
       "      <th>AGE</th>\n",
       "      <th>COUNTRY</th>\n",
       "      <th>STATE, PROVINCE, COUNTY, ETC</th>\n",
       "      <th>100 Grand Bar</th>\n",
       "      <th>Anonymous brown globs that come in black and orange wrappers\\t(a.k.a. Mary Janes)</th>\n",
       "      <th>Any full-sized candy bar</th>\n",
       "      <th>Black Jacks</th>\n",
       "      <th>...</th>\n",
       "      <th>DESPAIR OTHER</th>\n",
       "      <th>OTHER COMMENTS</th>\n",
       "      <th>DRESS</th>\n",
       "      <th>med: 113</th>\n",
       "      <th>DAY</th>\n",
       "      <th>MEDIA [Daily Dish]</th>\n",
       "      <th>MEDIA [Science]</th>\n",
       "      <th>MEDIA [ESPN]</th>\n",
       "      <th>MEDIA [Yahoo]</th>\n",
       "      <th>k Coordinates (x, y)</th>\n",
       "    </tr>\n",
       "  </thead>\n",
       "  <tbody>\n",
       "    <tr>\n",
       "      <th>0</th>\n",
       "      <td>90258773</td>\n",
       "      <td>NaN</td>\n",
       "      <td>NaN</td>\n",
       "      <td>NaN</td>\n",
       "      <td>NaN</td>\n",
       "      <td>NaN</td>\n",
       "      <td>NaN</td>\n",
       "      <td>NaN</td>\n",
       "      <td>NaN</td>\n",
       "      <td>NaN</td>\n",
       "      <td>...</td>\n",
       "      <td>NaN</td>\n",
       "      <td>NaN</td>\n",
       "      <td>NaN</td>\n",
       "      <td>NaN</td>\n",
       "      <td>NaN</td>\n",
       "      <td>NaN</td>\n",
       "      <td>NaN</td>\n",
       "      <td>NaN</td>\n",
       "      <td>NaN</td>\n",
       "      <td>NaN</td>\n",
       "    </tr>\n",
       "    <tr>\n",
       "      <th>1</th>\n",
       "      <td>90272821</td>\n",
       "      <td>No</td>\n",
       "      <td>Male</td>\n",
       "      <td>44</td>\n",
       "      <td>USA</td>\n",
       "      <td>NM</td>\n",
       "      <td>MEH</td>\n",
       "      <td>DESPAIR</td>\n",
       "      <td>JOY</td>\n",
       "      <td>MEH</td>\n",
       "      <td>...</td>\n",
       "      <td>NaN</td>\n",
       "      <td>Bottom line is Twix is really the only candy w...</td>\n",
       "      <td>White and gold</td>\n",
       "      <td>NaN</td>\n",
       "      <td>Sunday</td>\n",
       "      <td>NaN</td>\n",
       "      <td>1.0</td>\n",
       "      <td>NaN</td>\n",
       "      <td>NaN</td>\n",
       "      <td>(84, 25)</td>\n",
       "    </tr>\n",
       "    <tr>\n",
       "      <th>2</th>\n",
       "      <td>90272829</td>\n",
       "      <td>NaN</td>\n",
       "      <td>Male</td>\n",
       "      <td>49</td>\n",
       "      <td>USA</td>\n",
       "      <td>Virginia</td>\n",
       "      <td>NaN</td>\n",
       "      <td>NaN</td>\n",
       "      <td>NaN</td>\n",
       "      <td>NaN</td>\n",
       "      <td>...</td>\n",
       "      <td>NaN</td>\n",
       "      <td>NaN</td>\n",
       "      <td>NaN</td>\n",
       "      <td>NaN</td>\n",
       "      <td>NaN</td>\n",
       "      <td>NaN</td>\n",
       "      <td>NaN</td>\n",
       "      <td>NaN</td>\n",
       "      <td>NaN</td>\n",
       "      <td>NaN</td>\n",
       "    </tr>\n",
       "    <tr>\n",
       "      <th>3</th>\n",
       "      <td>90272840</td>\n",
       "      <td>No</td>\n",
       "      <td>Male</td>\n",
       "      <td>40</td>\n",
       "      <td>us</td>\n",
       "      <td>or</td>\n",
       "      <td>MEH</td>\n",
       "      <td>DESPAIR</td>\n",
       "      <td>JOY</td>\n",
       "      <td>MEH</td>\n",
       "      <td>...</td>\n",
       "      <td>NaN</td>\n",
       "      <td>Raisins can go to hell</td>\n",
       "      <td>White and gold</td>\n",
       "      <td>NaN</td>\n",
       "      <td>Sunday</td>\n",
       "      <td>NaN</td>\n",
       "      <td>1.0</td>\n",
       "      <td>NaN</td>\n",
       "      <td>NaN</td>\n",
       "      <td>(75, 23)</td>\n",
       "    </tr>\n",
       "    <tr>\n",
       "      <th>4</th>\n",
       "      <td>90272841</td>\n",
       "      <td>No</td>\n",
       "      <td>Male</td>\n",
       "      <td>23</td>\n",
       "      <td>usa</td>\n",
       "      <td>exton pa</td>\n",
       "      <td>JOY</td>\n",
       "      <td>DESPAIR</td>\n",
       "      <td>JOY</td>\n",
       "      <td>DESPAIR</td>\n",
       "      <td>...</td>\n",
       "      <td>NaN</td>\n",
       "      <td>NaN</td>\n",
       "      <td>White and gold</td>\n",
       "      <td>NaN</td>\n",
       "      <td>Friday</td>\n",
       "      <td>NaN</td>\n",
       "      <td>1.0</td>\n",
       "      <td>NaN</td>\n",
       "      <td>NaN</td>\n",
       "      <td>(70, 10)</td>\n",
       "    </tr>\n",
       "  </tbody>\n",
       "</table>\n",
       "<p>5 rows × 120 columns</p>\n",
       "</div>"
      ],
      "text/plain": [
       "    rnal ID GOING OUT? GENDER  AGE COUNTRY STATE, PROVINCE, COUNTY, ETC  \\\n",
       "0  90258773        NaN    NaN  NaN     NaN                          NaN   \n",
       "1  90272821         No   Male   44    USA                            NM   \n",
       "2  90272829        NaN   Male   49     USA                     Virginia   \n",
       "3  90272840         No   Male   40      us                           or   \n",
       "4  90272841         No   Male   23     usa                     exton pa   \n",
       "\n",
       "   100 Grand Bar  \\\n",
       "0            NaN   \n",
       "1            MEH   \n",
       "2            NaN   \n",
       "3            MEH   \n",
       "4            JOY   \n",
       "\n",
       "   Anonymous brown globs that come in black and orange wrappers\\t(a.k.a. Mary Janes)  \\\n",
       "0                                                NaN                                   \n",
       "1                                            DESPAIR                                   \n",
       "2                                                NaN                                   \n",
       "3                                            DESPAIR                                   \n",
       "4                                            DESPAIR                                   \n",
       "\n",
       "   Any full-sized candy bar  Black Jacks  ... DESPAIR OTHER  \\\n",
       "0                       NaN          NaN  ...           NaN   \n",
       "1                       JOY          MEH  ...           NaN   \n",
       "2                       NaN          NaN  ...           NaN   \n",
       "3                       JOY          MEH  ...           NaN   \n",
       "4                       JOY      DESPAIR  ...           NaN   \n",
       "\n",
       "                                      OTHER COMMENTS           DRESS med: 113  \\\n",
       "0                                                NaN             NaN      NaN   \n",
       "1  Bottom line is Twix is really the only candy w...  White and gold      NaN   \n",
       "2                                                NaN             NaN      NaN   \n",
       "3                             Raisins can go to hell  White and gold      NaN   \n",
       "4                                                NaN  White and gold      NaN   \n",
       "\n",
       "      DAY  MEDIA [Daily Dish]  MEDIA [Science]  MEDIA [ESPN]  MEDIA [Yahoo]  \\\n",
       "0     NaN                 NaN              NaN           NaN            NaN   \n",
       "1  Sunday                 NaN              1.0           NaN            NaN   \n",
       "2     NaN                 NaN              NaN           NaN            NaN   \n",
       "3  Sunday                 NaN              1.0           NaN            NaN   \n",
       "4  Friday                 NaN              1.0           NaN            NaN   \n",
       "\n",
       "  k Coordinates (x, y)  \n",
       "0                  NaN  \n",
       "1             (84, 25)  \n",
       "2                  NaN  \n",
       "3             (75, 23)  \n",
       "4             (70, 10)  \n",
       "\n",
       "[5 rows x 120 columns]"
      ]
     },
     "execution_count": 112,
     "metadata": {},
     "output_type": "execute_result"
    }
   ],
   "source": [
    "candy.head()"
   ]
  },
  {
   "cell_type": "code",
   "execution_count": 113,
   "metadata": {},
   "outputs": [],
   "source": [
    "#remove the space berfore the columns name\n",
    "candy.columns = [col.strip() for col in candy.columns]"
   ]
  },
  {
   "cell_type": "code",
   "execution_count": 114,
   "metadata": {},
   "outputs": [
    {
     "data": {
      "text/plain": [
       "Index(['rnal ID', 'GOING OUT?', 'GENDER', 'AGE', 'COUNTRY',\n",
       "       'STATE, PROVINCE, COUNTY, ETC', '100 Grand Bar',\n",
       "       'Anonymous brown globs that come in black and orange wrappers\\t(a.k.a. Mary Janes)',\n",
       "       'Any full-sized candy bar', 'Black Jacks',\n",
       "       ...\n",
       "       'DESPAIR OTHER', 'OTHER COMMENTS', 'DRESS', 'med: 113', 'DAY',\n",
       "       'MEDIA [Daily Dish]', 'MEDIA [Science]', 'MEDIA [ESPN]',\n",
       "       'MEDIA [Yahoo]', 'k Coordinates (x, y)'],\n",
       "      dtype='object', length=120)"
      ]
     },
     "execution_count": 114,
     "metadata": {},
     "output_type": "execute_result"
    }
   ],
   "source": [
    "candy.columns"
   ]
  },
  {
   "cell_type": "markdown",
   "metadata": {},
   "source": [
    "# rename the columns"
   ]
  },
  {
   "cell_type": "code",
   "execution_count": 115,
   "metadata": {},
   "outputs": [],
   "source": [
    "candy.rename(columns={'rnal ID':'ID','STATE, PROVINCE, COUNTY, ETC':'STATE','100 Grand Bar':'Grand Bar',\n",
    " 'Anonymous brown globs that come in black and orange wrappers\\t(a.k.a. Mary Janes)':'Anonymous brown globs',\n",
    "     'k Coordinates (x, y)':'Coordinates',\n",
    "    'Vials of pure high fructose corn syrup, for main-lining into your vein':'Vials of pure high fructose corn syrup'  },\n",
    "            inplace=True)"
   ]
  },
  {
   "cell_type": "code",
   "execution_count": 116,
   "metadata": {},
   "outputs": [
    {
     "data": {
      "text/plain": [
       "Index(['ID', 'GOING OUT?', 'GENDER', 'AGE', 'COUNTRY', 'STATE', 'Grand Bar',\n",
       "       'Anonymous brown globs', 'Any full-sized candy bar', 'Black Jacks',\n",
       "       ...\n",
       "       'DESPAIR OTHER', 'OTHER COMMENTS', 'DRESS', 'med: 113', 'DAY',\n",
       "       'MEDIA [Daily Dish]', 'MEDIA [Science]', 'MEDIA [ESPN]',\n",
       "       'MEDIA [Yahoo]', 'Coordinates'],\n",
       "      dtype='object', length=120)"
      ]
     },
     "execution_count": 116,
     "metadata": {},
     "output_type": "execute_result"
    }
   ],
   "source": [
    "candy.columns"
   ]
  },
  {
   "cell_type": "markdown",
   "metadata": {},
   "source": [
    "# when we take a look at the excel file of data ,we can see (med: 113 and MEDIA [Daily Dish])columns is empty ,so we will drop them"
   ]
  },
  {
   "cell_type": "code",
   "execution_count": 117,
   "metadata": {},
   "outputs": [],
   "source": [
    "candy.drop(columns=['med: 113'], axis=1, inplace=True)"
   ]
  },
  {
   "cell_type": "code",
   "execution_count": 118,
   "metadata": {},
   "outputs": [
    {
     "data": {
      "text/html": [
       "<div>\n",
       "<style scoped>\n",
       "    .dataframe tbody tr th:only-of-type {\n",
       "        vertical-align: middle;\n",
       "    }\n",
       "\n",
       "    .dataframe tbody tr th {\n",
       "        vertical-align: top;\n",
       "    }\n",
       "\n",
       "    .dataframe thead th {\n",
       "        text-align: right;\n",
       "    }\n",
       "</style>\n",
       "<table border=\"1\" class=\"dataframe\">\n",
       "  <thead>\n",
       "    <tr style=\"text-align: right;\">\n",
       "      <th></th>\n",
       "      <th>ID</th>\n",
       "      <th>GOING OUT?</th>\n",
       "      <th>GENDER</th>\n",
       "      <th>AGE</th>\n",
       "      <th>COUNTRY</th>\n",
       "      <th>STATE</th>\n",
       "      <th>Grand Bar</th>\n",
       "      <th>Anonymous brown globs</th>\n",
       "      <th>Any full-sized candy bar</th>\n",
       "      <th>Black Jacks</th>\n",
       "      <th>...</th>\n",
       "      <th>JOY OTHER</th>\n",
       "      <th>DESPAIR OTHER</th>\n",
       "      <th>OTHER COMMENTS</th>\n",
       "      <th>DRESS</th>\n",
       "      <th>DAY</th>\n",
       "      <th>MEDIA [Daily Dish]</th>\n",
       "      <th>MEDIA [Science]</th>\n",
       "      <th>MEDIA [ESPN]</th>\n",
       "      <th>MEDIA [Yahoo]</th>\n",
       "      <th>Coordinates</th>\n",
       "    </tr>\n",
       "  </thead>\n",
       "  <tbody>\n",
       "    <tr>\n",
       "      <th>0</th>\n",
       "      <td>90258773</td>\n",
       "      <td>NaN</td>\n",
       "      <td>NaN</td>\n",
       "      <td>NaN</td>\n",
       "      <td>NaN</td>\n",
       "      <td>NaN</td>\n",
       "      <td>NaN</td>\n",
       "      <td>NaN</td>\n",
       "      <td>NaN</td>\n",
       "      <td>NaN</td>\n",
       "      <td>...</td>\n",
       "      <td>NaN</td>\n",
       "      <td>NaN</td>\n",
       "      <td>NaN</td>\n",
       "      <td>NaN</td>\n",
       "      <td>NaN</td>\n",
       "      <td>NaN</td>\n",
       "      <td>NaN</td>\n",
       "      <td>NaN</td>\n",
       "      <td>NaN</td>\n",
       "      <td>NaN</td>\n",
       "    </tr>\n",
       "    <tr>\n",
       "      <th>1</th>\n",
       "      <td>90272821</td>\n",
       "      <td>No</td>\n",
       "      <td>Male</td>\n",
       "      <td>44</td>\n",
       "      <td>USA</td>\n",
       "      <td>NM</td>\n",
       "      <td>MEH</td>\n",
       "      <td>DESPAIR</td>\n",
       "      <td>JOY</td>\n",
       "      <td>MEH</td>\n",
       "      <td>...</td>\n",
       "      <td>Mounds</td>\n",
       "      <td>NaN</td>\n",
       "      <td>Bottom line is Twix is really the only candy w...</td>\n",
       "      <td>White and gold</td>\n",
       "      <td>Sunday</td>\n",
       "      <td>NaN</td>\n",
       "      <td>1.0</td>\n",
       "      <td>NaN</td>\n",
       "      <td>NaN</td>\n",
       "      <td>(84, 25)</td>\n",
       "    </tr>\n",
       "    <tr>\n",
       "      <th>2</th>\n",
       "      <td>90272829</td>\n",
       "      <td>NaN</td>\n",
       "      <td>Male</td>\n",
       "      <td>49</td>\n",
       "      <td>USA</td>\n",
       "      <td>Virginia</td>\n",
       "      <td>NaN</td>\n",
       "      <td>NaN</td>\n",
       "      <td>NaN</td>\n",
       "      <td>NaN</td>\n",
       "      <td>...</td>\n",
       "      <td>NaN</td>\n",
       "      <td>NaN</td>\n",
       "      <td>NaN</td>\n",
       "      <td>NaN</td>\n",
       "      <td>NaN</td>\n",
       "      <td>NaN</td>\n",
       "      <td>NaN</td>\n",
       "      <td>NaN</td>\n",
       "      <td>NaN</td>\n",
       "      <td>NaN</td>\n",
       "    </tr>\n",
       "    <tr>\n",
       "      <th>3</th>\n",
       "      <td>90272840</td>\n",
       "      <td>No</td>\n",
       "      <td>Male</td>\n",
       "      <td>40</td>\n",
       "      <td>us</td>\n",
       "      <td>or</td>\n",
       "      <td>MEH</td>\n",
       "      <td>DESPAIR</td>\n",
       "      <td>JOY</td>\n",
       "      <td>MEH</td>\n",
       "      <td>...</td>\n",
       "      <td>Reese's crispy crunchy bars, 5th avenue bars, ...</td>\n",
       "      <td>NaN</td>\n",
       "      <td>Raisins can go to hell</td>\n",
       "      <td>White and gold</td>\n",
       "      <td>Sunday</td>\n",
       "      <td>NaN</td>\n",
       "      <td>1.0</td>\n",
       "      <td>NaN</td>\n",
       "      <td>NaN</td>\n",
       "      <td>(75, 23)</td>\n",
       "    </tr>\n",
       "    <tr>\n",
       "      <th>4</th>\n",
       "      <td>90272841</td>\n",
       "      <td>No</td>\n",
       "      <td>Male</td>\n",
       "      <td>23</td>\n",
       "      <td>usa</td>\n",
       "      <td>exton pa</td>\n",
       "      <td>JOY</td>\n",
       "      <td>DESPAIR</td>\n",
       "      <td>JOY</td>\n",
       "      <td>DESPAIR</td>\n",
       "      <td>...</td>\n",
       "      <td>NaN</td>\n",
       "      <td>NaN</td>\n",
       "      <td>NaN</td>\n",
       "      <td>White and gold</td>\n",
       "      <td>Friday</td>\n",
       "      <td>NaN</td>\n",
       "      <td>1.0</td>\n",
       "      <td>NaN</td>\n",
       "      <td>NaN</td>\n",
       "      <td>(70, 10)</td>\n",
       "    </tr>\n",
       "  </tbody>\n",
       "</table>\n",
       "<p>5 rows × 119 columns</p>\n",
       "</div>"
      ],
      "text/plain": [
       "         ID GOING OUT? GENDER  AGE COUNTRY     STATE Grand Bar  \\\n",
       "0  90258773        NaN    NaN  NaN     NaN       NaN       NaN   \n",
       "1  90272821         No   Male   44    USA         NM       MEH   \n",
       "2  90272829        NaN   Male   49     USA  Virginia       NaN   \n",
       "3  90272840         No   Male   40      us        or       MEH   \n",
       "4  90272841         No   Male   23     usa  exton pa       JOY   \n",
       "\n",
       "  Anonymous brown globs Any full-sized candy bar Black Jacks  ...  \\\n",
       "0                   NaN                      NaN         NaN  ...   \n",
       "1               DESPAIR                      JOY         MEH  ...   \n",
       "2                   NaN                      NaN         NaN  ...   \n",
       "3               DESPAIR                      JOY         MEH  ...   \n",
       "4               DESPAIR                      JOY     DESPAIR  ...   \n",
       "\n",
       "                                           JOY OTHER DESPAIR OTHER  \\\n",
       "0                                                NaN           NaN   \n",
       "1                                             Mounds           NaN   \n",
       "2                                                NaN           NaN   \n",
       "3  Reese's crispy crunchy bars, 5th avenue bars, ...           NaN   \n",
       "4                                                NaN           NaN   \n",
       "\n",
       "                                      OTHER COMMENTS           DRESS     DAY  \\\n",
       "0                                                NaN             NaN     NaN   \n",
       "1  Bottom line is Twix is really the only candy w...  White and gold  Sunday   \n",
       "2                                                NaN             NaN     NaN   \n",
       "3                             Raisins can go to hell  White and gold  Sunday   \n",
       "4                                                NaN  White and gold  Friday   \n",
       "\n",
       "  MEDIA [Daily Dish] MEDIA [Science] MEDIA [ESPN] MEDIA [Yahoo] Coordinates  \n",
       "0                NaN             NaN          NaN           NaN         NaN  \n",
       "1                NaN             1.0          NaN           NaN    (84, 25)  \n",
       "2                NaN             NaN          NaN           NaN         NaN  \n",
       "3                NaN             1.0          NaN           NaN    (75, 23)  \n",
       "4                NaN             1.0          NaN           NaN    (70, 10)  \n",
       "\n",
       "[5 rows x 119 columns]"
      ]
     },
     "execution_count": 118,
     "metadata": {},
     "output_type": "execute_result"
    }
   ],
   "source": [
    "candy.head()"
   ]
  },
  {
   "cell_type": "markdown",
   "metadata": {},
   "source": [
    "# Check info to see if there are missing values"
   ]
  },
  {
   "cell_type": "code",
   "execution_count": 119,
   "metadata": {},
   "outputs": [
    {
     "name": "stdout",
     "output_type": "stream",
     "text": [
      "<class 'pandas.core.frame.DataFrame'>\n",
      "RangeIndex: 2460 entries, 0 to 2459\n",
      "Columns: 119 entries, ID to Coordinates\n",
      "dtypes: float64(4), int64(1), object(114)\n",
      "memory usage: 1.2+ MB\n"
     ]
    }
   ],
   "source": [
    "candy.info()"
   ]
  },
  {
   "cell_type": "markdown",
   "metadata": {},
   "source": [
    "# check the number of missing value"
   ]
  },
  {
   "cell_type": "code",
   "execution_count": 120,
   "metadata": {},
   "outputs": [
    {
     "data": {
      "text/plain": [
       "ID                       0\n",
       "GOING OUT?             110\n",
       "GENDER                  41\n",
       "AGE                     84\n",
       "COUNTRY                 64\n",
       "                      ... \n",
       "MEDIA [Daily Dish]    2375\n",
       "MEDIA [Science]       1098\n",
       "MEDIA [ESPN]          2361\n",
       "MEDIA [Yahoo]         2393\n",
       "Coordinates            855\n",
       "Length: 119, dtype: int64"
      ]
     },
     "execution_count": 120,
     "metadata": {},
     "output_type": "execute_result"
    }
   ],
   "source": [
    "candy.isnull().sum()"
   ]
  },
  {
   "cell_type": "code",
   "execution_count": 121,
   "metadata": {},
   "outputs": [
    {
     "data": {
      "text/plain": [
       "(2460, 119)"
      ]
     },
     "execution_count": 121,
     "metadata": {},
     "output_type": "execute_result"
    }
   ],
   "source": [
    "candy.shape"
   ]
  },
  {
   "cell_type": "markdown",
   "metadata": {},
   "source": [
    "# We can see (MEDIA [Daily Dish] , MEDIA [Science] , MEDIA [ESPN] and MEDIA [Yahoo])columns have alot of missing value , so we will drop them"
   ]
  },
  {
   "cell_type": "code",
   "execution_count": 122,
   "metadata": {},
   "outputs": [],
   "source": [
    "candy.drop(columns=['MEDIA [Daily Dish]','MEDIA [Science]','MEDIA [ESPN]','MEDIA [Yahoo]'], axis=1 , inplace=True)"
   ]
  },
  {
   "cell_type": "code",
   "execution_count": 123,
   "metadata": {},
   "outputs": [
    {
     "data": {
      "text/plain": [
       "(2460, 115)"
      ]
     },
     "execution_count": 123,
     "metadata": {},
     "output_type": "execute_result"
    }
   ],
   "source": [
    "candy.shape"
   ]
  },
  {
   "cell_type": "markdown",
   "metadata": {},
   "source": [
    "# the data is categrical ,so we will trun all nan into mode"
   ]
  },
  {
   "cell_type": "code",
   "execution_count": 124,
   "metadata": {},
   "outputs": [],
   "source": [
    "candy.fillna(candy.mode(), inplace=True)"
   ]
  },
  {
   "cell_type": "code",
   "execution_count": 125,
   "metadata": {},
   "outputs": [
    {
     "data": {
      "text/html": [
       "<div>\n",
       "<style scoped>\n",
       "    .dataframe tbody tr th:only-of-type {\n",
       "        vertical-align: middle;\n",
       "    }\n",
       "\n",
       "    .dataframe tbody tr th {\n",
       "        vertical-align: top;\n",
       "    }\n",
       "\n",
       "    .dataframe thead th {\n",
       "        text-align: right;\n",
       "    }\n",
       "</style>\n",
       "<table border=\"1\" class=\"dataframe\">\n",
       "  <thead>\n",
       "    <tr style=\"text-align: right;\">\n",
       "      <th></th>\n",
       "      <th>ID</th>\n",
       "      <th>GOING OUT?</th>\n",
       "      <th>GENDER</th>\n",
       "      <th>AGE</th>\n",
       "      <th>COUNTRY</th>\n",
       "      <th>STATE</th>\n",
       "      <th>Grand Bar</th>\n",
       "      <th>Anonymous brown globs</th>\n",
       "      <th>Any full-sized candy bar</th>\n",
       "      <th>Black Jacks</th>\n",
       "      <th>...</th>\n",
       "      <th>Whatchamacallit Bars</th>\n",
       "      <th>White Bread</th>\n",
       "      <th>Whole Wheat anything</th>\n",
       "      <th>York Peppermint Patties</th>\n",
       "      <th>JOY OTHER</th>\n",
       "      <th>DESPAIR OTHER</th>\n",
       "      <th>OTHER COMMENTS</th>\n",
       "      <th>DRESS</th>\n",
       "      <th>DAY</th>\n",
       "      <th>Coordinates</th>\n",
       "    </tr>\n",
       "  </thead>\n",
       "  <tbody>\n",
       "    <tr>\n",
       "      <th>0</th>\n",
       "      <td>90258773</td>\n",
       "      <td>No</td>\n",
       "      <td>Male</td>\n",
       "      <td>40</td>\n",
       "      <td>USA</td>\n",
       "      <td>California</td>\n",
       "      <td>JOY</td>\n",
       "      <td>DESPAIR</td>\n",
       "      <td>JOY</td>\n",
       "      <td>DESPAIR</td>\n",
       "      <td>...</td>\n",
       "      <td>JOY</td>\n",
       "      <td>DESPAIR</td>\n",
       "      <td>DESPAIR</td>\n",
       "      <td>JOY</td>\n",
       "      <td>Almond Joy</td>\n",
       "      <td>Trump</td>\n",
       "      <td>nom nom nom!</td>\n",
       "      <td>White and gold</td>\n",
       "      <td>Friday</td>\n",
       "      <td>(77, 24)</td>\n",
       "    </tr>\n",
       "    <tr>\n",
       "      <th>1</th>\n",
       "      <td>90272821</td>\n",
       "      <td>No</td>\n",
       "      <td>Male</td>\n",
       "      <td>44</td>\n",
       "      <td>USA</td>\n",
       "      <td>NM</td>\n",
       "      <td>MEH</td>\n",
       "      <td>DESPAIR</td>\n",
       "      <td>JOY</td>\n",
       "      <td>MEH</td>\n",
       "      <td>...</td>\n",
       "      <td>DESPAIR</td>\n",
       "      <td>DESPAIR</td>\n",
       "      <td>DESPAIR</td>\n",
       "      <td>DESPAIR</td>\n",
       "      <td>Mounds</td>\n",
       "      <td>NaN</td>\n",
       "      <td>Bottom line is Twix is really the only candy w...</td>\n",
       "      <td>White and gold</td>\n",
       "      <td>Sunday</td>\n",
       "      <td>(84, 25)</td>\n",
       "    </tr>\n",
       "    <tr>\n",
       "      <th>2</th>\n",
       "      <td>90272829</td>\n",
       "      <td>NaN</td>\n",
       "      <td>Male</td>\n",
       "      <td>49</td>\n",
       "      <td>USA</td>\n",
       "      <td>Virginia</td>\n",
       "      <td>NaN</td>\n",
       "      <td>NaN</td>\n",
       "      <td>NaN</td>\n",
       "      <td>NaN</td>\n",
       "      <td>...</td>\n",
       "      <td>NaN</td>\n",
       "      <td>NaN</td>\n",
       "      <td>NaN</td>\n",
       "      <td>NaN</td>\n",
       "      <td>NaN</td>\n",
       "      <td>NaN</td>\n",
       "      <td>NaN</td>\n",
       "      <td>NaN</td>\n",
       "      <td>NaN</td>\n",
       "      <td>NaN</td>\n",
       "    </tr>\n",
       "    <tr>\n",
       "      <th>3</th>\n",
       "      <td>90272840</td>\n",
       "      <td>No</td>\n",
       "      <td>Male</td>\n",
       "      <td>40</td>\n",
       "      <td>us</td>\n",
       "      <td>or</td>\n",
       "      <td>MEH</td>\n",
       "      <td>DESPAIR</td>\n",
       "      <td>JOY</td>\n",
       "      <td>MEH</td>\n",
       "      <td>...</td>\n",
       "      <td>JOY</td>\n",
       "      <td>DESPAIR</td>\n",
       "      <td>DESPAIR</td>\n",
       "      <td>DESPAIR</td>\n",
       "      <td>Reese's crispy crunchy bars, 5th avenue bars, ...</td>\n",
       "      <td>NaN</td>\n",
       "      <td>Raisins can go to hell</td>\n",
       "      <td>White and gold</td>\n",
       "      <td>Sunday</td>\n",
       "      <td>(75, 23)</td>\n",
       "    </tr>\n",
       "    <tr>\n",
       "      <th>4</th>\n",
       "      <td>90272841</td>\n",
       "      <td>No</td>\n",
       "      <td>Male</td>\n",
       "      <td>23</td>\n",
       "      <td>usa</td>\n",
       "      <td>exton pa</td>\n",
       "      <td>JOY</td>\n",
       "      <td>DESPAIR</td>\n",
       "      <td>JOY</td>\n",
       "      <td>DESPAIR</td>\n",
       "      <td>...</td>\n",
       "      <td>JOY</td>\n",
       "      <td>DESPAIR</td>\n",
       "      <td>DESPAIR</td>\n",
       "      <td>JOY</td>\n",
       "      <td>NaN</td>\n",
       "      <td>NaN</td>\n",
       "      <td>NaN</td>\n",
       "      <td>White and gold</td>\n",
       "      <td>Friday</td>\n",
       "      <td>(70, 10)</td>\n",
       "    </tr>\n",
       "  </tbody>\n",
       "</table>\n",
       "<p>5 rows × 115 columns</p>\n",
       "</div>"
      ],
      "text/plain": [
       "         ID GOING OUT? GENDER AGE COUNTRY       STATE Grand Bar  \\\n",
       "0  90258773         No   Male  40     USA  California       JOY   \n",
       "1  90272821         No   Male  44    USA           NM       MEH   \n",
       "2  90272829        NaN   Male  49     USA    Virginia       NaN   \n",
       "3  90272840         No   Male  40      us          or       MEH   \n",
       "4  90272841         No   Male  23     usa    exton pa       JOY   \n",
       "\n",
       "  Anonymous brown globs Any full-sized candy bar Black Jacks  ...  \\\n",
       "0               DESPAIR                      JOY     DESPAIR  ...   \n",
       "1               DESPAIR                      JOY         MEH  ...   \n",
       "2                   NaN                      NaN         NaN  ...   \n",
       "3               DESPAIR                      JOY         MEH  ...   \n",
       "4               DESPAIR                      JOY     DESPAIR  ...   \n",
       "\n",
       "  Whatchamacallit Bars White Bread Whole Wheat anything  \\\n",
       "0                  JOY     DESPAIR              DESPAIR   \n",
       "1              DESPAIR     DESPAIR              DESPAIR   \n",
       "2                  NaN         NaN                  NaN   \n",
       "3                  JOY     DESPAIR              DESPAIR   \n",
       "4                  JOY     DESPAIR              DESPAIR   \n",
       "\n",
       "  York Peppermint Patties                                          JOY OTHER  \\\n",
       "0                     JOY                                         Almond Joy   \n",
       "1                 DESPAIR                                             Mounds   \n",
       "2                     NaN                                                NaN   \n",
       "3                 DESPAIR  Reese's crispy crunchy bars, 5th avenue bars, ...   \n",
       "4                     JOY                                                NaN   \n",
       "\n",
       "  DESPAIR OTHER                                     OTHER COMMENTS  \\\n",
       "0         Trump                                       nom nom nom!   \n",
       "1           NaN  Bottom line is Twix is really the only candy w...   \n",
       "2           NaN                                                NaN   \n",
       "3           NaN                             Raisins can go to hell   \n",
       "4           NaN                                                NaN   \n",
       "\n",
       "            DRESS     DAY Coordinates  \n",
       "0  White and gold  Friday    (77, 24)  \n",
       "1  White and gold  Sunday    (84, 25)  \n",
       "2             NaN     NaN         NaN  \n",
       "3  White and gold  Sunday    (75, 23)  \n",
       "4  White and gold  Friday    (70, 10)  \n",
       "\n",
       "[5 rows x 115 columns]"
      ]
     },
     "execution_count": 125,
     "metadata": {},
     "output_type": "execute_result"
    }
   ],
   "source": [
    "candy.head()"
   ]
  },
  {
   "cell_type": "markdown",
   "metadata": {},
   "source": [
    "# check missing value again"
   ]
  },
  {
   "cell_type": "code",
   "execution_count": 126,
   "metadata": {},
   "outputs": [
    {
     "data": {
      "text/plain": [
       "ID                   0\n",
       "GOING OUT?         109\n",
       "GENDER              40\n",
       "AGE                 83\n",
       "COUNTRY             63\n",
       "                  ... \n",
       "DESPAIR OTHER     1742\n",
       "OTHER COMMENTS    2073\n",
       "DRESS              743\n",
       "DAY                724\n",
       "Coordinates        854\n",
       "Length: 115, dtype: int64"
      ]
     },
     "execution_count": 126,
     "metadata": {},
     "output_type": "execute_result"
    }
   ],
   "source": [
    "candy.isnull().sum()"
   ]
  },
  {
   "cell_type": "markdown",
   "metadata": {},
   "source": [
    "# drop (JOY OTHER ,DESPAIR OTHER and OTHER COMMENTS) columns"
   ]
  },
  {
   "cell_type": "code",
   "execution_count": 127,
   "metadata": {},
   "outputs": [],
   "source": [
    "candy.drop(columns=['DESPAIR OTHER','OTHER COMMENTS','JOY OTHER'],axis=1 , inplace=True)"
   ]
  },
  {
   "cell_type": "markdown",
   "metadata": {},
   "source": [
    "# check the missing value again"
   ]
  },
  {
   "cell_type": "code",
   "execution_count": 128,
   "metadata": {},
   "outputs": [
    {
     "data": {
      "text/plain": [
       "ID                           0\n",
       "GOING OUT?                 109\n",
       "GENDER                      40\n",
       "AGE                         83\n",
       "COUNTRY                     63\n",
       "                          ... \n",
       "Whole Wheat anything       746\n",
       "York Peppermint Patties    704\n",
       "DRESS                      743\n",
       "DAY                        724\n",
       "Coordinates                854\n",
       "Length: 112, dtype: int64"
      ]
     },
     "execution_count": 128,
     "metadata": {},
     "output_type": "execute_result"
    }
   ],
   "source": [
    "candy.isnull().sum()"
   ]
  },
  {
   "cell_type": "markdown",
   "metadata": {},
   "source": [
    "# shape of data"
   ]
  },
  {
   "cell_type": "code",
   "execution_count": 129,
   "metadata": {},
   "outputs": [
    {
     "data": {
      "text/plain": [
       "(2460, 112)"
      ]
     },
     "execution_count": 129,
     "metadata": {},
     "output_type": "execute_result"
    }
   ],
   "source": [
    "candy.shape"
   ]
  },
  {
   "cell_type": "markdown",
   "metadata": {},
   "source": [
    "# Drop the rest of missing value"
   ]
  },
  {
   "cell_type": "code",
   "execution_count": 130,
   "metadata": {},
   "outputs": [],
   "source": [
    "candy.dropna(inplace=True)"
   ]
  },
  {
   "cell_type": "markdown",
   "metadata": {},
   "source": [
    "# check the missing for the last time"
   ]
  },
  {
   "cell_type": "code",
   "execution_count": 131,
   "metadata": {},
   "outputs": [
    {
     "data": {
      "text/plain": [
       "False"
      ]
     },
     "execution_count": 131,
     "metadata": {},
     "output_type": "execute_result"
    }
   ],
   "source": [
    "candy.isnull().values.any()"
   ]
  },
  {
   "cell_type": "markdown",
   "metadata": {},
   "source": [
    "# Now the data is not has any nan value"
   ]
  },
  {
   "cell_type": "code",
   "execution_count": 132,
   "metadata": {},
   "outputs": [
    {
     "data": {
      "text/plain": [
       "(848, 112)"
      ]
     },
     "execution_count": 132,
     "metadata": {},
     "output_type": "execute_result"
    }
   ],
   "source": [
    "candy.shape"
   ]
  },
  {
   "cell_type": "code",
   "execution_count": 133,
   "metadata": {},
   "outputs": [
    {
     "data": {
      "text/html": [
       "<div>\n",
       "<style scoped>\n",
       "    .dataframe tbody tr th:only-of-type {\n",
       "        vertical-align: middle;\n",
       "    }\n",
       "\n",
       "    .dataframe tbody tr th {\n",
       "        vertical-align: top;\n",
       "    }\n",
       "\n",
       "    .dataframe thead th {\n",
       "        text-align: right;\n",
       "    }\n",
       "</style>\n",
       "<table border=\"1\" class=\"dataframe\">\n",
       "  <thead>\n",
       "    <tr style=\"text-align: right;\">\n",
       "      <th></th>\n",
       "      <th>ID</th>\n",
       "      <th>GOING OUT?</th>\n",
       "      <th>GENDER</th>\n",
       "      <th>AGE</th>\n",
       "      <th>COUNTRY</th>\n",
       "      <th>STATE</th>\n",
       "      <th>Grand Bar</th>\n",
       "      <th>Anonymous brown globs</th>\n",
       "      <th>Any full-sized candy bar</th>\n",
       "      <th>Black Jacks</th>\n",
       "      <th>...</th>\n",
       "      <th>Twix</th>\n",
       "      <th>Vials of pure high fructose corn syrup</th>\n",
       "      <th>Vicodin</th>\n",
       "      <th>Whatchamacallit Bars</th>\n",
       "      <th>White Bread</th>\n",
       "      <th>Whole Wheat anything</th>\n",
       "      <th>York Peppermint Patties</th>\n",
       "      <th>DRESS</th>\n",
       "      <th>DAY</th>\n",
       "      <th>Coordinates</th>\n",
       "    </tr>\n",
       "  </thead>\n",
       "  <tbody>\n",
       "    <tr>\n",
       "      <th>0</th>\n",
       "      <td>90258773</td>\n",
       "      <td>No</td>\n",
       "      <td>Male</td>\n",
       "      <td>40</td>\n",
       "      <td>USA</td>\n",
       "      <td>California</td>\n",
       "      <td>JOY</td>\n",
       "      <td>DESPAIR</td>\n",
       "      <td>JOY</td>\n",
       "      <td>DESPAIR</td>\n",
       "      <td>...</td>\n",
       "      <td>JOY</td>\n",
       "      <td>DESPAIR</td>\n",
       "      <td>DESPAIR</td>\n",
       "      <td>JOY</td>\n",
       "      <td>DESPAIR</td>\n",
       "      <td>DESPAIR</td>\n",
       "      <td>JOY</td>\n",
       "      <td>White and gold</td>\n",
       "      <td>Friday</td>\n",
       "      <td>(77, 24)</td>\n",
       "    </tr>\n",
       "    <tr>\n",
       "      <th>1</th>\n",
       "      <td>90272821</td>\n",
       "      <td>No</td>\n",
       "      <td>Male</td>\n",
       "      <td>44</td>\n",
       "      <td>USA</td>\n",
       "      <td>NM</td>\n",
       "      <td>MEH</td>\n",
       "      <td>DESPAIR</td>\n",
       "      <td>JOY</td>\n",
       "      <td>MEH</td>\n",
       "      <td>...</td>\n",
       "      <td>JOY</td>\n",
       "      <td>DESPAIR</td>\n",
       "      <td>DESPAIR</td>\n",
       "      <td>DESPAIR</td>\n",
       "      <td>DESPAIR</td>\n",
       "      <td>DESPAIR</td>\n",
       "      <td>DESPAIR</td>\n",
       "      <td>White and gold</td>\n",
       "      <td>Sunday</td>\n",
       "      <td>(84, 25)</td>\n",
       "    </tr>\n",
       "    <tr>\n",
       "      <th>3</th>\n",
       "      <td>90272840</td>\n",
       "      <td>No</td>\n",
       "      <td>Male</td>\n",
       "      <td>40</td>\n",
       "      <td>us</td>\n",
       "      <td>or</td>\n",
       "      <td>MEH</td>\n",
       "      <td>DESPAIR</td>\n",
       "      <td>JOY</td>\n",
       "      <td>MEH</td>\n",
       "      <td>...</td>\n",
       "      <td>JOY</td>\n",
       "      <td>DESPAIR</td>\n",
       "      <td>JOY</td>\n",
       "      <td>JOY</td>\n",
       "      <td>DESPAIR</td>\n",
       "      <td>DESPAIR</td>\n",
       "      <td>DESPAIR</td>\n",
       "      <td>White and gold</td>\n",
       "      <td>Sunday</td>\n",
       "      <td>(75, 23)</td>\n",
       "    </tr>\n",
       "    <tr>\n",
       "      <th>8</th>\n",
       "      <td>90272858</td>\n",
       "      <td>No</td>\n",
       "      <td>Male</td>\n",
       "      <td>40</td>\n",
       "      <td>Canada</td>\n",
       "      <td>Ontario</td>\n",
       "      <td>JOY</td>\n",
       "      <td>DESPAIR</td>\n",
       "      <td>JOY</td>\n",
       "      <td>MEH</td>\n",
       "      <td>...</td>\n",
       "      <td>JOY</td>\n",
       "      <td>MEH</td>\n",
       "      <td>DESPAIR</td>\n",
       "      <td>MEH</td>\n",
       "      <td>DESPAIR</td>\n",
       "      <td>DESPAIR</td>\n",
       "      <td>DESPAIR</td>\n",
       "      <td>Blue and black</td>\n",
       "      <td>Sunday</td>\n",
       "      <td>(76, 24)</td>\n",
       "    </tr>\n",
       "    <tr>\n",
       "      <th>14</th>\n",
       "      <td>90272868</td>\n",
       "      <td>No</td>\n",
       "      <td>Female</td>\n",
       "      <td>37</td>\n",
       "      <td>Canada</td>\n",
       "      <td>Ontario</td>\n",
       "      <td>MEH</td>\n",
       "      <td>JOY</td>\n",
       "      <td>JOY</td>\n",
       "      <td>MEH</td>\n",
       "      <td>...</td>\n",
       "      <td>JOY</td>\n",
       "      <td>DESPAIR</td>\n",
       "      <td>MEH</td>\n",
       "      <td>JOY</td>\n",
       "      <td>DESPAIR</td>\n",
       "      <td>DESPAIR</td>\n",
       "      <td>JOY</td>\n",
       "      <td>Blue and black</td>\n",
       "      <td>Sunday</td>\n",
       "      <td>(75, 25)</td>\n",
       "    </tr>\n",
       "  </tbody>\n",
       "</table>\n",
       "<p>5 rows × 112 columns</p>\n",
       "</div>"
      ],
      "text/plain": [
       "          ID GOING OUT?  GENDER AGE COUNTRY       STATE Grand Bar  \\\n",
       "0   90258773         No    Male  40     USA  California       JOY   \n",
       "1   90272821         No    Male  44    USA           NM       MEH   \n",
       "3   90272840         No    Male  40      us          or       MEH   \n",
       "8   90272858         No    Male  40  Canada     Ontario       JOY   \n",
       "14  90272868         No  Female  37  Canada     Ontario       MEH   \n",
       "\n",
       "   Anonymous brown globs Any full-sized candy bar Black Jacks  ... Twix  \\\n",
       "0                DESPAIR                      JOY     DESPAIR  ...  JOY   \n",
       "1                DESPAIR                      JOY         MEH  ...  JOY   \n",
       "3                DESPAIR                      JOY         MEH  ...  JOY   \n",
       "8                DESPAIR                      JOY         MEH  ...  JOY   \n",
       "14                   JOY                      JOY         MEH  ...  JOY   \n",
       "\n",
       "   Vials of pure high fructose corn syrup  Vicodin Whatchamacallit Bars  \\\n",
       "0                                 DESPAIR  DESPAIR                  JOY   \n",
       "1                                 DESPAIR  DESPAIR              DESPAIR   \n",
       "3                                 DESPAIR      JOY                  JOY   \n",
       "8                                     MEH  DESPAIR                  MEH   \n",
       "14                                DESPAIR      MEH                  JOY   \n",
       "\n",
       "   White Bread Whole Wheat anything York Peppermint Patties           DRESS  \\\n",
       "0      DESPAIR              DESPAIR                     JOY  White and gold   \n",
       "1      DESPAIR              DESPAIR                 DESPAIR  White and gold   \n",
       "3      DESPAIR              DESPAIR                 DESPAIR  White and gold   \n",
       "8      DESPAIR              DESPAIR                 DESPAIR  Blue and black   \n",
       "14     DESPAIR              DESPAIR                     JOY  Blue and black   \n",
       "\n",
       "       DAY Coordinates  \n",
       "0   Friday    (77, 24)  \n",
       "1   Sunday    (84, 25)  \n",
       "3   Sunday    (75, 23)  \n",
       "8   Sunday    (76, 24)  \n",
       "14  Sunday    (75, 25)  \n",
       "\n",
       "[5 rows x 112 columns]"
      ]
     },
     "execution_count": 133,
     "metadata": {},
     "output_type": "execute_result"
    }
   ],
   "source": [
    "candy.head()"
   ]
  },
  {
   "cell_type": "markdown",
   "metadata": {},
   "source": [
    "# Now we will show the value of each column"
   ]
  },
  {
   "cell_type": "code",
   "execution_count": 134,
   "metadata": {},
   "outputs": [
    {
     "data": {
      "text/plain": [
       "array([40, 44, 37, 59, 48, 35, 58, 50, 52, 41, 34, 53, 62, 42, 38, 28, 45,\n",
       "       69, 47, 67, 33, 25, 54, 51, 70, 43, 24, 27, 18, 49, 'Old enough',\n",
       "       57, 66, 32, 'Many', 60, 39, 55, 65, 64, '?', 11, 36, 20, 46, 6, 10,\n",
       "       63, 71, 12, 26, 312, 56, 61, 72, 31, 99, 29, 'hahahahaha', 30, 22,\n",
       "       13, 102, 'older than dirt', 15, 23, 'See question 2', 14, 100,\n",
       "       1000, 'ancient', 21, 16, 'MY NAME JEFF', 19], dtype=object)"
      ]
     },
     "execution_count": 134,
     "metadata": {},
     "output_type": "execute_result"
    }
   ],
   "source": [
    "candy['AGE'].unique()"
   ]
  },
  {
   "cell_type": "markdown",
   "metadata": {},
   "source": [
    "# replace the some values in the column"
   ]
  },
  {
   "cell_type": "code",
   "execution_count": 135,
   "metadata": {},
   "outputs": [],
   "source": [
    "candy['AGE'] = candy['AGE'].replace({\"Many\": np.nan, \"?\": np.nan, \"Old enough\": np.nan, 'hahahahaha': np.nan,\n",
    "          \"older than dirt\": np.nan, \"See question 2\" : np.nan, \"ancient\": np.nan , \"MY NAME JEFF\" : np.nan  })"
   ]
  },
  {
   "cell_type": "markdown",
   "metadata": {},
   "source": [
    "# clean nan values with bfill "
   ]
  },
  {
   "cell_type": "code",
   "execution_count": 136,
   "metadata": {},
   "outputs": [],
   "source": [
    "candy.fillna(method='bfill',inplace=True)"
   ]
  },
  {
   "cell_type": "markdown",
   "metadata": {},
   "source": [
    "# show the values again"
   ]
  },
  {
   "cell_type": "code",
   "execution_count": 137,
   "metadata": {},
   "outputs": [
    {
     "data": {
      "text/plain": [
       "array([  40.,   44.,   37.,   59.,   48.,   35.,   58.,   50.,   52.,\n",
       "         41.,   34.,   53.,   62.,   42.,   38.,   28.,   45.,   69.,\n",
       "         47.,   67.,   33.,   25.,   54.,   51.,   70.,   43.,   24.,\n",
       "         27.,   18.,   49.,   57.,   66.,   32.,   60.,   39.,   55.,\n",
       "         65.,   64.,   11.,   36.,   20.,   46.,    6.,   10.,   63.,\n",
       "         71.,   12.,   26.,  312.,   56.,   61.,   72.,   31.,   99.,\n",
       "         29.,   30.,   22.,   13.,  102.,   15.,   23.,   14.,  100.,\n",
       "       1000.,   21.,   16.,   19.])"
      ]
     },
     "execution_count": 137,
     "metadata": {},
     "output_type": "execute_result"
    }
   ],
   "source": [
    "candy['AGE'].unique()"
   ]
  },
  {
   "cell_type": "markdown",
   "metadata": {},
   "source": [
    "# show the values of COUNTRY column"
   ]
  },
  {
   "cell_type": "code",
   "execution_count": 138,
   "metadata": {},
   "outputs": [
    {
     "data": {
      "text/plain": [
       "array(['USA', 'USA ', 'us', 'Canada', 'US', 'United States',\n",
       "       'United States of America', 'United States ', 'canada',\n",
       "       'United states', 'Usa', 'united states', 'america', 'usa',\n",
       "       'U.S.A.', 'Mexico', 'united states of america', 'US of A', 'UK',\n",
       "       'Unites States', 'North Carolina ', 'United Kingdom',\n",
       "       'United States of America ', 'The United States of America',\n",
       "       'insanity lately', 'USA? Hard to tell anymore..', 'u.s.', 'Us',\n",
       "       'A', 'Can', 'Ireland', 'United Sates', 'California', 'USa',\n",
       "       'I pretend to be from Canada, but I am really from the United States.',\n",
       "       'Usa ', 'Scotland', 'Denmark', 'France ', 'Japan',\n",
       "       'Ahem....Amerca', 'New Jersey', 'United Stated', 'Germany',\n",
       "       'Netherlands', 'U.S.', 'endland', 'United State', 'Atlantis',\n",
       "       'murrika', 'united States ', 'N. America', 'spain', 'Narnia',\n",
       "       'u s a', 'United Statea', 'subscribe to dm4uz3 on youtube',\n",
       "       'USA USA USA!!!!', \"I don't know anymore\"], dtype=object)"
      ]
     },
     "execution_count": 138,
     "metadata": {},
     "output_type": "execute_result"
    }
   ],
   "source": [
    "candy['COUNTRY'].unique()"
   ]
  },
  {
   "cell_type": "code",
   "execution_count": 139,
   "metadata": {},
   "outputs": [],
   "source": [
    "candy['COUNTRY']=candy['COUNTRY'].replace({'USA? Hard to tell anymore..':np.nan, 'subscribe to dm4uz3 on youtube':np.nan,\n",
    "      'USA USA USA!!!!':np.nan, \"I don't know anymore\":np.nan})"
   ]
  },
  {
   "cell_type": "code",
   "execution_count": 140,
   "metadata": {},
   "outputs": [],
   "source": [
    "candy.fillna(method='bfill',inplace=True)"
   ]
  },
  {
   "cell_type": "code",
   "execution_count": 141,
   "metadata": {},
   "outputs": [
    {
     "data": {
      "text/plain": [
       "array(['USA', 'USA ', 'us', 'Canada', 'US', 'United States',\n",
       "       'United States of America', 'United States ', 'canada',\n",
       "       'United states', 'Usa', 'united states', 'america', 'usa',\n",
       "       'U.S.A.', 'Mexico', 'united states of america', 'US of A', 'UK',\n",
       "       'Unites States', 'North Carolina ', 'United Kingdom',\n",
       "       'United States of America ', 'The United States of America',\n",
       "       'insanity lately', 'u.s.', 'Us', 'A', 'Can', 'Ireland',\n",
       "       'United Sates', 'California', 'USa',\n",
       "       'I pretend to be from Canada, but I am really from the United States.',\n",
       "       'Usa ', 'Scotland', 'Denmark', 'France ', 'Japan',\n",
       "       'Ahem....Amerca', 'New Jersey', 'United Stated', 'Germany',\n",
       "       'Netherlands', 'U.S.', 'endland', 'United State', 'Atlantis',\n",
       "       'murrika', 'united States ', 'N. America', 'spain', 'Narnia',\n",
       "       'u s a', 'United Statea'], dtype=object)"
      ]
     },
     "execution_count": 141,
     "metadata": {},
     "output_type": "execute_result"
    }
   ],
   "source": [
    "candy['COUNTRY'].unique()"
   ]
  },
  {
   "cell_type": "markdown",
   "metadata": {},
   "source": [
    "# Show values of STATE"
   ]
  },
  {
   "cell_type": "code",
   "execution_count": 142,
   "metadata": {
    "scrolled": true
   },
   "outputs": [
    {
     "data": {
      "text/plain": [
       "array(['California', 'NM', 'or', 'Ontario', 'NEW YORK', 'CO', 'Michigan',\n",
       "       'New Jersey', 'Colorado', 'Los Angeles, California',\n",
       "       'Chicago, Illinois', 'TEXAS', 'District of Columbia', 'Illinois',\n",
       "       'New York', 'Alberta', 'CA', 'Florida', 'MN', 'Pennsylvania ',\n",
       "       'Alberta ', 'DC', 'Ohio', 'Maryland', 'ontario', 'MI',\n",
       "       'Wisconsin ', 'Louisiana', 'pa', 'Texas', 'CO, Larimer County',\n",
       "       'Nebraska ', 'UT', 'Wisconsin', 'north carolina', 'minnesota',\n",
       "       'Knox county, Tennessee', 'New Mexico', 'WA', 'Virginia',\n",
       "       'Illinois ', 'OR', 'Il', 'Oregon', 'New Hampshire ', 'Georgia',\n",
       "       'IL', 'Washington, Clark ', 'NE', 'Oklahoma', 'Nevada', 'va',\n",
       "       'California ', 'Oregon - but will be in Washington for Halloween',\n",
       "       'Ri', 'Washington, King', 'Massachusetts ', 'mi', 'wa', 'PA',\n",
       "       'North Carolina', 'pennsylvania', 'GA', 'BC', 'california ', 'MA',\n",
       "       'Baja California', 'IN', 'Massachusetts', 'Ny', 'illinois',\n",
       "       'MARYLAND', 'Quebec', 'Colorado ', 'Pennsylvania', 'NC',\n",
       "       'Washington', 'Oxfordshire', 'British Columbia', 'USA ', 'nc',\n",
       "       'Minnesota', 'Bc', 'philadelphia', 'Kentucky', 'Co', 'New York ',\n",
       "       'VA', 'Utah', 'FL', 'Missouri', 'wisconsin', 'La', 'maine',\n",
       "       'Hawaii', 'Arizona', 'mn', 'VT', 'Greater London', 'Texas ',\n",
       "       'WV, Kanawha County ', 'Florida ', 'Alabama', 'Washington State',\n",
       "       'Nebraska', 'Indiana', 'florida', 'massachusetts', 'Connecticut',\n",
       "       'ON', 'NY', 'South Carolina ', 'RI', 'newfoundland', 'mississippi',\n",
       "       'ohio', 'Manchester', 'in', 'Ohio ', 'Pa', 'FL ',\n",
       "       'oblivion if things keep going this way', 'virginia', 'Maine',\n",
       "       'Nunya, Bizness, USA', 'OH', 'Oklahoma ',\n",
       "       'phoenix, maricopa county, arizona', 'cailifornia', 'QC',\n",
       "       'Washington, seattle, king', 'Iowa', 'Ma', 'KS', 'Henrico, VA',\n",
       "       'Washington State, King County, City of Seattle', 'AZ', 'Montana',\n",
       "       'Az', 'Santa Barbara co. California', 'TX', 'Ky',\n",
       "       'New Orleans la ', 'Nh', 'NH', 'A', 'Kalamazoo County, MI',\n",
       "       'OREGON', 'Ontario ', 'wv', 'ulster county, NY', 'NJ, Gloucester',\n",
       "       'Mi', 'Mn', 'NS', 'Kildare', 'Vermont ', 'ND', 'tennessee',\n",
       "       'Kings, New York ', 'ca', 'Toronto, Ontario', 'Tehama', 'MS',\n",
       "       'suffolk county ny', 'Santa Clara County, California', 'SC', 'Md',\n",
       "       'MO', 'South Carolina', 'Wa', 'Califor', 'Kansas', 'california',\n",
       "       'West Virginia', 'Missouri ', 'Ny ', 'Wyoming ', 'NJ', 'Ca',\n",
       "       'british columbia', 'California, San Francisco',\n",
       "       'Glendora, Los Angeles, California', 'Strathclyde', 'Ørbæk', 'Idf',\n",
       "       'Osaka', 'Surrey', 'see question 2', 'Midlothian', 'Michigan ',\n",
       "       'Tennessee', 'Durham County, North Carolina', 'ma', 'Canada',\n",
       "       'The Shore', 'MD ', 'PENNSYLVANIA', 'kansas',\n",
       "       'Mannheim, Baden-Württemberg ', 'Wyoming', 'Rotterdam', 'Vermont',\n",
       "       'washington', 'kent', 'North Dakota', 'NOYB', 'New york', 'ny',\n",
       "       'Emerald City, Petrolia', 'wa, spokane', 'new york ',\n",
       "       'Buncombe County, North Carolina', 'MD', 'British Columbia ',\n",
       "       'Nj ', 'Washington ', 'kentucky', 'Philadelphia',\n",
       "       'Portland, maine', 'nh', 'montana', 'indiana ', 'oregon', 'il',\n",
       "       'ct', 'colorado', 'Atlanta, GA', 'NV', 'texas', 'Kentucky ',\n",
       "       'west virginia', 'alberta', 'Mo', 'Nj', 'Fl', 'wyoming',\n",
       "       'Dona Ana county, New Mexico', 'UT, Salt Lake', 'bc', 'Washingto',\n",
       "       'madrid', 'London', 'Tree Town, USA', 'Tokyo', 'oklahoma',\n",
       "       'NJ; Essex', 'Ia', 'nyc', 'Québec', 'WI', 'Munster',\n",
       "       'Philadelphia PA', 'Rappahannock County, VA', 'OK', 'mo',\n",
       "       'Mexico City', 'WASHINGTON DC', 'Tn', 'new york', 'maryland',\n",
       "       'Idaho ', 'West Yorkshire', 'ur mom', 'Arkansas', 'tn', 'utah',\n",
       "       'Tx', 'Rhode Island', 'Idaho', 'CT',\n",
       "       \"The Democratic People's Republic of North Carolina\", 'SC ', 'nj',\n",
       "       'dc'], dtype=object)"
      ]
     },
     "execution_count": 142,
     "metadata": {},
     "output_type": "execute_result"
    }
   ],
   "source": [
    "candy['STATE'].unique()"
   ]
  },
  {
   "cell_type": "code",
   "execution_count": 143,
   "metadata": {},
   "outputs": [
    {
     "data": {
      "text/html": [
       "<div>\n",
       "<style scoped>\n",
       "    .dataframe tbody tr th:only-of-type {\n",
       "        vertical-align: middle;\n",
       "    }\n",
       "\n",
       "    .dataframe tbody tr th {\n",
       "        vertical-align: top;\n",
       "    }\n",
       "\n",
       "    .dataframe thead th {\n",
       "        text-align: right;\n",
       "    }\n",
       "</style>\n",
       "<table border=\"1\" class=\"dataframe\">\n",
       "  <thead>\n",
       "    <tr style=\"text-align: right;\">\n",
       "      <th></th>\n",
       "      <th>ID</th>\n",
       "      <th>GOING OUT?</th>\n",
       "      <th>GENDER</th>\n",
       "      <th>AGE</th>\n",
       "      <th>COUNTRY</th>\n",
       "      <th>STATE</th>\n",
       "      <th>Grand Bar</th>\n",
       "      <th>Anonymous brown globs</th>\n",
       "      <th>Any full-sized candy bar</th>\n",
       "      <th>Black Jacks</th>\n",
       "      <th>...</th>\n",
       "      <th>Twix</th>\n",
       "      <th>Vials of pure high fructose corn syrup</th>\n",
       "      <th>Vicodin</th>\n",
       "      <th>Whatchamacallit Bars</th>\n",
       "      <th>White Bread</th>\n",
       "      <th>Whole Wheat anything</th>\n",
       "      <th>York Peppermint Patties</th>\n",
       "      <th>DRESS</th>\n",
       "      <th>DAY</th>\n",
       "      <th>Coordinates</th>\n",
       "    </tr>\n",
       "  </thead>\n",
       "  <tbody>\n",
       "    <tr>\n",
       "      <th>0</th>\n",
       "      <td>90258773</td>\n",
       "      <td>No</td>\n",
       "      <td>Male</td>\n",
       "      <td>40.0</td>\n",
       "      <td>USA</td>\n",
       "      <td>California</td>\n",
       "      <td>JOY</td>\n",
       "      <td>DESPAIR</td>\n",
       "      <td>JOY</td>\n",
       "      <td>DESPAIR</td>\n",
       "      <td>...</td>\n",
       "      <td>JOY</td>\n",
       "      <td>DESPAIR</td>\n",
       "      <td>DESPAIR</td>\n",
       "      <td>JOY</td>\n",
       "      <td>DESPAIR</td>\n",
       "      <td>DESPAIR</td>\n",
       "      <td>JOY</td>\n",
       "      <td>White and gold</td>\n",
       "      <td>Friday</td>\n",
       "      <td>(77, 24)</td>\n",
       "    </tr>\n",
       "    <tr>\n",
       "      <th>1</th>\n",
       "      <td>90272821</td>\n",
       "      <td>No</td>\n",
       "      <td>Male</td>\n",
       "      <td>44.0</td>\n",
       "      <td>USA</td>\n",
       "      <td>NM</td>\n",
       "      <td>MEH</td>\n",
       "      <td>DESPAIR</td>\n",
       "      <td>JOY</td>\n",
       "      <td>MEH</td>\n",
       "      <td>...</td>\n",
       "      <td>JOY</td>\n",
       "      <td>DESPAIR</td>\n",
       "      <td>DESPAIR</td>\n",
       "      <td>DESPAIR</td>\n",
       "      <td>DESPAIR</td>\n",
       "      <td>DESPAIR</td>\n",
       "      <td>DESPAIR</td>\n",
       "      <td>White and gold</td>\n",
       "      <td>Sunday</td>\n",
       "      <td>(84, 25)</td>\n",
       "    </tr>\n",
       "    <tr>\n",
       "      <th>3</th>\n",
       "      <td>90272840</td>\n",
       "      <td>No</td>\n",
       "      <td>Male</td>\n",
       "      <td>40.0</td>\n",
       "      <td>us</td>\n",
       "      <td>or</td>\n",
       "      <td>MEH</td>\n",
       "      <td>DESPAIR</td>\n",
       "      <td>JOY</td>\n",
       "      <td>MEH</td>\n",
       "      <td>...</td>\n",
       "      <td>JOY</td>\n",
       "      <td>DESPAIR</td>\n",
       "      <td>JOY</td>\n",
       "      <td>JOY</td>\n",
       "      <td>DESPAIR</td>\n",
       "      <td>DESPAIR</td>\n",
       "      <td>DESPAIR</td>\n",
       "      <td>White and gold</td>\n",
       "      <td>Sunday</td>\n",
       "      <td>(75, 23)</td>\n",
       "    </tr>\n",
       "    <tr>\n",
       "      <th>8</th>\n",
       "      <td>90272858</td>\n",
       "      <td>No</td>\n",
       "      <td>Male</td>\n",
       "      <td>40.0</td>\n",
       "      <td>Canada</td>\n",
       "      <td>Ontario</td>\n",
       "      <td>JOY</td>\n",
       "      <td>DESPAIR</td>\n",
       "      <td>JOY</td>\n",
       "      <td>MEH</td>\n",
       "      <td>...</td>\n",
       "      <td>JOY</td>\n",
       "      <td>MEH</td>\n",
       "      <td>DESPAIR</td>\n",
       "      <td>MEH</td>\n",
       "      <td>DESPAIR</td>\n",
       "      <td>DESPAIR</td>\n",
       "      <td>DESPAIR</td>\n",
       "      <td>Blue and black</td>\n",
       "      <td>Sunday</td>\n",
       "      <td>(76, 24)</td>\n",
       "    </tr>\n",
       "    <tr>\n",
       "      <th>14</th>\n",
       "      <td>90272868</td>\n",
       "      <td>No</td>\n",
       "      <td>Female</td>\n",
       "      <td>37.0</td>\n",
       "      <td>Canada</td>\n",
       "      <td>Ontario</td>\n",
       "      <td>MEH</td>\n",
       "      <td>JOY</td>\n",
       "      <td>JOY</td>\n",
       "      <td>MEH</td>\n",
       "      <td>...</td>\n",
       "      <td>JOY</td>\n",
       "      <td>DESPAIR</td>\n",
       "      <td>MEH</td>\n",
       "      <td>JOY</td>\n",
       "      <td>DESPAIR</td>\n",
       "      <td>DESPAIR</td>\n",
       "      <td>JOY</td>\n",
       "      <td>Blue and black</td>\n",
       "      <td>Sunday</td>\n",
       "      <td>(75, 25)</td>\n",
       "    </tr>\n",
       "  </tbody>\n",
       "</table>\n",
       "<p>5 rows × 112 columns</p>\n",
       "</div>"
      ],
      "text/plain": [
       "          ID GOING OUT?  GENDER   AGE COUNTRY       STATE Grand Bar  \\\n",
       "0   90258773         No    Male  40.0     USA  California       JOY   \n",
       "1   90272821         No    Male  44.0    USA           NM       MEH   \n",
       "3   90272840         No    Male  40.0      us          or       MEH   \n",
       "8   90272858         No    Male  40.0  Canada     Ontario       JOY   \n",
       "14  90272868         No  Female  37.0  Canada     Ontario       MEH   \n",
       "\n",
       "   Anonymous brown globs Any full-sized candy bar Black Jacks  ... Twix  \\\n",
       "0                DESPAIR                      JOY     DESPAIR  ...  JOY   \n",
       "1                DESPAIR                      JOY         MEH  ...  JOY   \n",
       "3                DESPAIR                      JOY         MEH  ...  JOY   \n",
       "8                DESPAIR                      JOY         MEH  ...  JOY   \n",
       "14                   JOY                      JOY         MEH  ...  JOY   \n",
       "\n",
       "   Vials of pure high fructose corn syrup  Vicodin Whatchamacallit Bars  \\\n",
       "0                                 DESPAIR  DESPAIR                  JOY   \n",
       "1                                 DESPAIR  DESPAIR              DESPAIR   \n",
       "3                                 DESPAIR      JOY                  JOY   \n",
       "8                                     MEH  DESPAIR                  MEH   \n",
       "14                                DESPAIR      MEH                  JOY   \n",
       "\n",
       "   White Bread Whole Wheat anything York Peppermint Patties           DRESS  \\\n",
       "0      DESPAIR              DESPAIR                     JOY  White and gold   \n",
       "1      DESPAIR              DESPAIR                 DESPAIR  White and gold   \n",
       "3      DESPAIR              DESPAIR                 DESPAIR  White and gold   \n",
       "8      DESPAIR              DESPAIR                 DESPAIR  Blue and black   \n",
       "14     DESPAIR              DESPAIR                     JOY  Blue and black   \n",
       "\n",
       "       DAY Coordinates  \n",
       "0   Friday    (77, 24)  \n",
       "1   Sunday    (84, 25)  \n",
       "3   Sunday    (75, 23)  \n",
       "8   Sunday    (76, 24)  \n",
       "14  Sunday    (75, 25)  \n",
       "\n",
       "[5 rows x 112 columns]"
      ]
     },
     "execution_count": 143,
     "metadata": {},
     "output_type": "execute_result"
    }
   ],
   "source": [
    "candy.head()"
   ]
  },
  {
   "cell_type": "markdown",
   "metadata": {},
   "source": [
    "# Check if there are outliers "
   ]
  },
  {
   "cell_type": "code",
   "execution_count": 144,
   "metadata": {},
   "outputs": [
    {
     "data": {
      "text/plain": [
       "AGE                         14\n",
       "Abstained from M&M'ing.      0\n",
       "Anonymous brown globs        0\n",
       "Any full-sized candy bar     0\n",
       "Black Jacks                  0\n",
       "                            ..\n",
       "Vicodin                      0\n",
       "Whatchamacallit Bars         0\n",
       "White Bread                  0\n",
       "Whole Wheat anything         0\n",
       "York Peppermint Patties      0\n",
       "Length: 112, dtype: int64"
      ]
     },
     "execution_count": 144,
     "metadata": {},
     "output_type": "execute_result"
    }
   ],
   "source": [
    "Q1 = candy.quantile(0.25)\n",
    "Q3 = candy.quantile(0.75)\n",
    "IQR = Q3 - Q1\n",
    "x = (Q1 - 1.5 * IQR)\n",
    "y = (Q3 + 1.5 * IQR)\n",
    "((candy < x ) | (candy > y)).sum()\n"
   ]
  },
  {
   "cell_type": "markdown",
   "metadata": {},
   "source": [
    "We will use boxplot to show the oytliers"
   ]
  },
  {
   "cell_type": "code",
   "execution_count": 145,
   "metadata": {},
   "outputs": [
    {
     "data": {
      "image/png": "[encoded data removed]",
      "text/plain": [
       "<Figure size 432x288 with 1 Axes>"
      ]
     },
     "metadata": {},
     "output_type": "display_data"
    }
   ],
   "source": [
    "sns.boxplot(candy['AGE'])\n",
    "plt.show()"
   ]
  },
  {
   "cell_type": "markdown",
   "metadata": {},
   "source": [
    "# Treat the outliers"
   ]
  },
  {
   "cell_type": "code",
   "execution_count": 146,
   "metadata": {},
   "outputs": [],
   "source": [
    "new=candy[['AGE']]\n",
    "Q1 = new.quantile(0.25)\n",
    "Q3 = new.quantile(0.75)\n",
    "IQR = Q3-Q1\n",
    "minimum = Q1 - 1.5*IQR\n",
    "maximum = Q3 + 1.5*IQR\n",
    "cond = (new <= maximum) & (new >= minimum)\n",
    "cond = cond.all(axis=1)\n",
    "candy= candy[cond]"
   ]
  },
  {
   "cell_type": "code",
   "execution_count": 147,
   "metadata": {},
   "outputs": [
    {
     "name": "stdout",
     "output_type": "stream",
     "text": [
      "<class 'pandas.core.frame.DataFrame'>\n",
      "Int64Index: 834 entries, 0 to 2459\n",
      "Columns: 112 entries, ID to Coordinates\n",
      "dtypes: float64(1), int64(1), object(110)\n",
      "memory usage: 377.9+ KB\n"
     ]
    }
   ],
   "source": [
    "candy.info()"
   ]
  },
  {
   "cell_type": "markdown",
   "metadata": {},
   "source": [
    "Finally data is clean"
   ]
  },
  {
   "cell_type": "markdown",
   "metadata": {},
   "source": [
    "# Plot feelings when  recieving candy corn\n",
    "we use countplot() because data is categocial"
   ]
  },
  {
   "cell_type": "code",
   "execution_count": 148,
   "metadata": {
    "scrolled": true
   },
   "outputs": [
    {
     "data": {
      "image/png": "[encoded data removed]",
      "text/plain": [
       "<Figure size 1440x1440 with 16 Axes>"
      ]
     },
     "metadata": {},
     "output_type": "display_data"
    }
   ],
   "source": [
    "plt.figure(figsize=(20,20))\n",
    "sns.set_palette(\"Blues_d\")\n",
    "sns.set_style('dark')\n",
    "plt.subplot(4,4,1)\n",
    "sns.countplot(candy['Grand Bar'])\n",
    "plt.subplot(4,4,2)\n",
    "sns.countplot(candy['Anonymous brown globs'])\n",
    "plt.subplot(4,4,3)\n",
    "sns.countplot(candy['Black Jacks'])\n",
    "plt.subplot(4,4,4)\n",
    "sns.countplot(candy['Bonkers (the candy)'])\n",
    "plt.subplot(4,4,5)\n",
    "sns.countplot(candy['Bonkers (the board game)'])\n",
    "plt.subplot(4,4,6)\n",
    "sns.countplot(candy['Bottle Caps'])\n",
    "plt.subplot(4,4,7)\n",
    "sns.countplot(candy[\"Box'o'Raisins\"])\n",
    "plt.subplot(4,4,8)\n",
    "sns.countplot(candy['Broken glow stick'])\n",
    "plt.subplot(4,4,9)\n",
    "sns.countplot(candy['Butterfinger'])\n",
    "plt.subplot(4,4,10)\n",
    "sns.countplot(candy['Cadbury Creme Eggs'])\n",
    "plt.subplot(4,4,11)\n",
    "sns.countplot(candy['Kinder Happy Hippo'])\n",
    "plt.subplot(4,4,12)\n",
    "sns.countplot(candy['Kit Kat'])\n",
    "plt.subplot(4,4,13)\n",
    "sns.countplot(candy['LaffyTaffy'])\n",
    "plt.subplot(4,4,14)\n",
    "sns.countplot(candy['LemonHeads'])\n",
    "plt.subplot(4,4,15)\n",
    "sns.countplot(candy['Licorice (not black)'])\n",
    "plt.subplot(4,4,16)\n",
    "sns.countplot(candy['Licorice (yes black)'])\n",
    "plt.show()"
   ]
  },
  {
   "cell_type": "code",
   "execution_count": 149,
   "metadata": {
    "scrolled": true
   },
   "outputs": [
    {
     "data": {
      "image/png": "[encoded data removed]",
      "text/plain": [
       "<Figure size 1440x1440 with 16 Axes>"
      ]
     },
     "metadata": {},
     "output_type": "display_data"
    }
   ],
   "source": [
    "plt.figure(figsize=(20,20))\n",
    "plt.subplot(4,4,1)\n",
    "sns.countplot(candy[\"Candy Corn\"]) \n",
    "plt.subplot(4,4,2)\n",
    "sns.countplot(candy[\"Caramellos\"])\n",
    "plt.subplot(4,4,3)\n",
    "sns.countplot(candy[\"Chardonnay\"])\n",
    "plt.subplot(4,4,4)\n",
    "sns.countplot(candy[\"Chiclets\"])\n",
    "plt.subplot(4,4,5)\n",
    "sns.countplot(candy[\"Dots\"])\n",
    "plt.subplot(4,4,6)\n",
    "sns.countplot(candy[\"Dove Bars\"])\n",
    "plt.subplot(4,4,7)\n",
    "sns.countplot(candy[\"Goo Goo Clusters\"])\n",
    "plt.subplot(4,4,8)\n",
    "sns.countplot(candy[\"Hard Candy\"])\n",
    "plt.subplot(4,4,9)\n",
    "sns.countplot(candy[\"Healthy Fruit\"])\n",
    "plt.subplot(4,4,10)\n",
    "sns.countplot(candy[\"Heath Bar\"])\n",
    "plt.subplot(4,4,11)\n",
    "sns.countplot(candy[\"Hershey's Dark Chocolate\"])\n",
    "plt.subplot(4,4,12)\n",
    "sns.countplot(candy[\"Hugs (actual physical hugs)\"])\n",
    "plt.subplot(4,4,13)\n",
    "sns.countplot(candy[\"Hershey's Kisses\"])\n",
    "plt.subplot(4,4,14)\n",
    "sns.countplot(candy[\"Junior Mints\"])\n",
    "plt.subplot(4,4,15)\n",
    "sns.countplot(candy[\"Senior Mints\"])\n",
    "plt.subplot(4,4,16)\n",
    "sns.countplot(candy[\"Kale smoothie\"])\n",
    "plt.show() "
   ]
  },
  {
   "cell_type": "code",
   "execution_count": 150,
   "metadata": {
    "scrolled": true
   },
   "outputs": [
    {
     "data": {
      "image/png": "[encoded data removed]",
      "text/plain": [
       "<Figure size 1440x1440 with 16 Axes>"
      ]
     },
     "metadata": {},
     "output_type": "display_data"
    }
   ],
   "source": [
    "plt.figure(figsize=(20,20))\n",
    "plt.subplot(4,4,1)\n",
    "sns.countplot(candy[\"Lindt Truffle\"]) \n",
    "plt.subplot(4,4,2)\n",
    "sns.countplot(candy[\"Lollipops\"])\n",
    "plt.subplot(4,4,3)\n",
    "sns.countplot(candy[\"Mars\"])\n",
    "plt.subplot(4,4,4)\n",
    "sns.countplot(candy[\"Maynards\"])\n",
    "plt.subplot(4,4,5)\n",
    "sns.countplot(candy[\"Mike and Ike\"])\n",
    "plt.subplot(4,4,6)\n",
    "sns.countplot(candy[\"Milk Duds\"])\n",
    "plt.subplot(4,4,7)\n",
    "sns.countplot(candy[\"Goo Goo Clusters\"])\n",
    "plt.subplot(4,4,8)\n",
    "sns.countplot(candy[\"Milky Way\"])\n",
    "plt.subplot(4,4,9)\n",
    "sns.countplot(candy[\"Regular M&Ms\"])\n",
    "plt.subplot(4,4,10)\n",
    "sns.countplot(candy[\"Mint Kisses\"])\n",
    "plt.subplot(4,4,11)\n",
    "sns.countplot(candy[\"Necco Wafers\"])\n",
    "plt.subplot(4,4,12)\n",
    "sns.countplot(candy[\"Mint Juleps\"])\n",
    "plt.subplot(4,4,13)\n",
    "sns.countplot(candy[\"Hershey's Kisses\"])\n",
    "plt.subplot(4,4,14)\n",
    "sns.countplot(candy[\"Necco Wafers\"])\n",
    "plt.subplot(4,4,15)\n",
    "sns.countplot(candy[\"Nerds\"])\n",
    "plt.subplot(4,4,16)\n",
    "sns.countplot(candy[\"Nestle Crunch\"])\n",
    "plt.show() \n"
   ]
  },
  {
   "cell_type": "code",
   "execution_count": 151,
   "metadata": {
    "scrolled": true
   },
   "outputs": [
    {
     "data": {
      "image/png": "[encoded data removed]",
      "text/plain": [
       "<Figure size 1440x1440 with 16 Axes>"
      ]
     },
     "metadata": {},
     "output_type": "display_data"
    }
   ],
   "source": [
    "plt.figure(figsize=(20,20))\n",
    "plt.subplot(4,4,1)\n",
    "sns.countplot(candy[\"Peeps\"]) \n",
    "plt.subplot(4,4,2)\n",
    "sns.countplot(candy[\"Pencils\"])\n",
    "plt.subplot(4,4,3)\n",
    "sns.countplot(candy[\"Pixy Stix\"])\n",
    "plt.subplot(4,4,4)\n",
    "sns.countplot(candy[\"Reggie Jackson Bar\"])\n",
    "plt.subplot(4,4,5)\n",
    "sns.countplot(candy[\"Skittles\"])\n",
    "plt.subplot(4,4,6)\n",
    "sns.countplot(candy[\"Snickers\"])\n",
    "plt.subplot(4,4,7)\n",
    "sns.countplot(candy[\"Spotted Dick\"])\n",
    "plt.subplot(4,4,8)\n",
    "sns.countplot(candy[\"Three Musketeers\"])\n",
    "plt.subplot(4,4,9)\n",
    "sns.countplot(candy[\"Tolberone something or other\"])\n",
    "plt.subplot(4,4,10)\n",
    "sns.countplot(candy[\"Trail Mix\"])\n",
    "plt.subplot(4,4,11)\n",
    "sns.countplot(candy[\"Twix\"])\n",
    "plt.subplot(4,4,12)\n",
    "sns.countplot(candy[\"Vicodin\"])\n",
    "plt.subplot(4,4,13)\n",
    "sns.countplot(candy[\"Whatchamacallit Bars\"])\n",
    "plt.subplot(4,4,14)\n",
    "sns.countplot(candy[\"White Bread\"])\n",
    "plt.subplot(4,4,15)\n",
    "sns.countplot(candy[\"Whole Wheat anything\"])\n",
    "plt.subplot(4,4,16)\n",
    "sns.countplot(candy[\"York Peppermint Patties\"])\n",
    "plt.show() "
   ]
  },
  {
   "cell_type": "markdown",
   "metadata": {},
   "source": [
    "from the previuos plots we can notice that (JOY and DESPAIR) feelings are equal"
   ]
  },
  {
   "cell_type": "markdown",
   "metadata": {},
   "source": [
    "# Now we will plot the Gender"
   ]
  },
  {
   "cell_type": "code",
   "execution_count": 152,
   "metadata": {},
   "outputs": [
    {
     "data": {
      "image/png": "[encoded data removed]",
      "text/plain": [
       "<Figure size 360x360 with 1 Axes>"
      ]
     },
     "metadata": {},
     "output_type": "display_data"
    }
   ],
   "source": [
    "plt.figure(figsize=(5,5))\n",
    "sns.set_palette(\"RdBu\")\n",
    "sns.countplot(candy[\"GENDER\"])\n",
    "plt.show()"
   ]
  },
  {
   "cell_type": "markdown",
   "metadata": {},
   "source": [
    "we can see male is larger than female"
   ]
  },
  {
   "cell_type": "markdown",
   "metadata": {},
   "source": [
    "# We will plot Age"
   ]
  },
  {
   "cell_type": "code",
   "execution_count": 153,
   "metadata": {},
   "outputs": [
    {
     "data": {
      "image/png": "[encoded data removed]",
      "text/plain": [
       "<Figure size 720x720 with 1 Axes>"
      ]
     },
     "metadata": {},
     "output_type": "display_data"
    }
   ],
   "source": [
    "plt.figure(figsize=(10,10))\n",
    "sns.countplot(candy[\"AGE\"])\n",
    "plt.xticks(rotation= 90)\n",
    "plt.show()"
   ]
  },
  {
   "cell_type": "markdown",
   "metadata": {},
   "source": [
    "we can see the most people who fill the servay are 40 years old"
   ]
  },
  {
   "cell_type": "markdown",
   "metadata": {},
   "source": [
    "# We will plot Countery"
   ]
  },
  {
   "cell_type": "code",
   "execution_count": 154,
   "metadata": {},
   "outputs": [
    {
     "data": {
      "image/png": "[encoded data removed]",
      "text/plain": [
       "<Figure size 720x720 with 1 Axes>"
      ]
     },
     "metadata": {},
     "output_type": "display_data"
    }
   ],
   "source": [
    "plt.figure(figsize=(10,10))\n",
    "sns.countplot(candy[\"COUNTRY\"])\n",
    "plt.xticks(rotation= 90)\n",
    "plt.show()"
   ]
  },
  {
   "cell_type": "markdown",
   "metadata": {},
   "source": [
    "Most people from USA"
   ]
  },
  {
   "cell_type": "markdown",
   "metadata": {},
   "source": [
    "# finally, we finish this data"
   ]
  }
 ],
 "metadata": {
  "kernelspec": {
   "display_name": "Python 3",
   "language": "python",
   "name": "python3"
  },
  "language_info": {
   "codemirror_mode": {
    "name": "ipython",
    "version": 3
   },
   "file_extension": ".py",
   "mimetype": "text/x-python",
   "name": "python",
   "nbconvert_exporter": "python",
   "pygments_lexer": "ipython3",
   "version": "3.7.6"
  }
 },
 "nbformat": 4,
 "nbformat_minor": 4
}
